{
  "nbformat": 4,
  "nbformat_minor": 0,
  "metadata": {
    "colab": {
      "provenance": [],
      "authorship_tag": "ABX9TyP6nh/20z0XZScLzBNNVljd",
      "include_colab_link": true
    },
    "kernelspec": {
      "name": "python3",
      "display_name": "Python 3"
    },
    "language_info": {
      "name": "python"
    }
  },
  "cells": [
    {
      "cell_type": "markdown",
      "metadata": {
        "id": "view-in-github",
        "colab_type": "text"
      },
      "source": [
        "<a href=\"https://colab.research.google.com/github/redwild1066/ArcGIS/blob/main/Vegetaion_Final_Complete_.ipynb\" target=\"_parent\"><img src=\"https://colab.research.google.com/assets/colab-badge.svg\" alt=\"Open In Colab\"/></a>"
      ]
    },
    {
      "cell_type": "code",
      "execution_count": null,
      "metadata": {
        "id": "Pfwy3UyLhOo0"
      },
      "outputs": [],
      "source": [
        "import pandas as pd\n",
        "import numpy as np\n",
        "import random\n",
        "\n",
        "from sklearn.model_selection import train_test_split\n",
        "from sklearn.ensemble import RandomForestRegressor\n",
        "from sklearn.metrics import mean_squared_error\n",
        "from sklearn.ensemble import RandomForestClassifier\n"
      ]
    },
    {
      "cell_type": "code",
      "source": [
        "df = pd.read_csv('/content/DATA JAN 2022 - MARCH 2023.csv')"
      ],
      "metadata": {
        "id": "sNj-go-GhS3i"
      },
      "execution_count": null,
      "outputs": []
    },
    {
      "cell_type": "code",
      "source": [
        "vegetation_density = 0.3 * df['Temperature'] + 0.2 * df['Humidity'] + 0.1 * df['Precipitation'] + 0.05 * df['Wind_speed']\n",
        "\n",
        "df['Vegetation Density'] = vegetation_density"
      ],
      "metadata": {
        "id": "IfUlkrTGhUJe"
      },
      "execution_count": null,
      "outputs": []
    },
    {
      "cell_type": "code",
      "source": [
        "max_value = vegetation_density.max()\n",
        "min_value = vegetation_density.min()\n",
        "rescaled_vegetation_density = (vegetation_density - min_value) / (max_value - min_value)\n",
        "\n",
        "# Step 4: Add Rescaled Vegetation Density to the DataFrame\n",
        "df['Rescaled Vegetation Density'] = rescaled_vegetation_density"
      ],
      "metadata": {
        "id": "nTs6UH4xhzRj"
      },
      "execution_count": null,
      "outputs": []
    },
    {
      "cell_type": "code",
      "source": [
        "X = df[['Temperature', 'Humidity', 'Precipitation', 'Wind_speed']]\n",
        "y = df['Rescaled Vegetation Density']"
      ],
      "metadata": {
        "id": "oEQdI9Jjk7tX"
      },
      "execution_count": null,
      "outputs": []
    },
    {
      "cell_type": "code",
      "source": [
        "X_train, X_test, y_train, y_test = train_test_split(X, y, test_size=0.2, random_state=42)"
      ],
      "metadata": {
        "id": "K07E27Svk9bu"
      },
      "execution_count": null,
      "outputs": []
    },
    {
      "cell_type": "code",
      "source": [
        "rf_model = RandomForestRegressor(n_estimators=100, random_state=42)\n",
        "rf_model.fit(X_train, y_train)"
      ],
      "metadata": {
        "colab": {
          "base_uri": "https://localhost:8080/",
          "height": 75
        },
        "id": "6A24zrzYlAbd",
        "outputId": "99e1c170-abd8-46c6-b997-0be9583d8b44"
      },
      "execution_count": null,
      "outputs": [
        {
          "output_type": "execute_result",
          "data": {
            "text/plain": [
              "RandomForestRegressor(random_state=42)"
            ],
            "text/html": [
              "<style>#sk-container-id-8 {color: black;background-color: white;}#sk-container-id-8 pre{padding: 0;}#sk-container-id-8 div.sk-toggleable {background-color: white;}#sk-container-id-8 label.sk-toggleable__label {cursor: pointer;display: block;width: 100%;margin-bottom: 0;padding: 0.3em;box-sizing: border-box;text-align: center;}#sk-container-id-8 label.sk-toggleable__label-arrow:before {content: \"▸\";float: left;margin-right: 0.25em;color: #696969;}#sk-container-id-8 label.sk-toggleable__label-arrow:hover:before {color: black;}#sk-container-id-8 div.sk-estimator:hover label.sk-toggleable__label-arrow:before {color: black;}#sk-container-id-8 div.sk-toggleable__content {max-height: 0;max-width: 0;overflow: hidden;text-align: left;background-color: #f0f8ff;}#sk-container-id-8 div.sk-toggleable__content pre {margin: 0.2em;color: black;border-radius: 0.25em;background-color: #f0f8ff;}#sk-container-id-8 input.sk-toggleable__control:checked~div.sk-toggleable__content {max-height: 200px;max-width: 100%;overflow: auto;}#sk-container-id-8 input.sk-toggleable__control:checked~label.sk-toggleable__label-arrow:before {content: \"▾\";}#sk-container-id-8 div.sk-estimator input.sk-toggleable__control:checked~label.sk-toggleable__label {background-color: #d4ebff;}#sk-container-id-8 div.sk-label input.sk-toggleable__control:checked~label.sk-toggleable__label {background-color: #d4ebff;}#sk-container-id-8 input.sk-hidden--visually {border: 0;clip: rect(1px 1px 1px 1px);clip: rect(1px, 1px, 1px, 1px);height: 1px;margin: -1px;overflow: hidden;padding: 0;position: absolute;width: 1px;}#sk-container-id-8 div.sk-estimator {font-family: monospace;background-color: #f0f8ff;border: 1px dotted black;border-radius: 0.25em;box-sizing: border-box;margin-bottom: 0.5em;}#sk-container-id-8 div.sk-estimator:hover {background-color: #d4ebff;}#sk-container-id-8 div.sk-parallel-item::after {content: \"\";width: 100%;border-bottom: 1px solid gray;flex-grow: 1;}#sk-container-id-8 div.sk-label:hover label.sk-toggleable__label {background-color: #d4ebff;}#sk-container-id-8 div.sk-serial::before {content: \"\";position: absolute;border-left: 1px solid gray;box-sizing: border-box;top: 0;bottom: 0;left: 50%;z-index: 0;}#sk-container-id-8 div.sk-serial {display: flex;flex-direction: column;align-items: center;background-color: white;padding-right: 0.2em;padding-left: 0.2em;position: relative;}#sk-container-id-8 div.sk-item {position: relative;z-index: 1;}#sk-container-id-8 div.sk-parallel {display: flex;align-items: stretch;justify-content: center;background-color: white;position: relative;}#sk-container-id-8 div.sk-item::before, #sk-container-id-8 div.sk-parallel-item::before {content: \"\";position: absolute;border-left: 1px solid gray;box-sizing: border-box;top: 0;bottom: 0;left: 50%;z-index: -1;}#sk-container-id-8 div.sk-parallel-item {display: flex;flex-direction: column;z-index: 1;position: relative;background-color: white;}#sk-container-id-8 div.sk-parallel-item:first-child::after {align-self: flex-end;width: 50%;}#sk-container-id-8 div.sk-parallel-item:last-child::after {align-self: flex-start;width: 50%;}#sk-container-id-8 div.sk-parallel-item:only-child::after {width: 0;}#sk-container-id-8 div.sk-dashed-wrapped {border: 1px dashed gray;margin: 0 0.4em 0.5em 0.4em;box-sizing: border-box;padding-bottom: 0.4em;background-color: white;}#sk-container-id-8 div.sk-label label {font-family: monospace;font-weight: bold;display: inline-block;line-height: 1.2em;}#sk-container-id-8 div.sk-label-container {text-align: center;}#sk-container-id-8 div.sk-container {/* jupyter's `normalize.less` sets `[hidden] { display: none; }` but bootstrap.min.css set `[hidden] { display: none !important; }` so we also need the `!important` here to be able to override the default hidden behavior on the sphinx rendered scikit-learn.org. See: https://github.com/scikit-learn/scikit-learn/issues/21755 */display: inline-block !important;position: relative;}#sk-container-id-8 div.sk-text-repr-fallback {display: none;}</style><div id=\"sk-container-id-8\" class=\"sk-top-container\"><div class=\"sk-text-repr-fallback\"><pre>RandomForestRegressor(random_state=42)</pre><b>In a Jupyter environment, please rerun this cell to show the HTML representation or trust the notebook. <br />On GitHub, the HTML representation is unable to render, please try loading this page with nbviewer.org.</b></div><div class=\"sk-container\" hidden><div class=\"sk-item\"><div class=\"sk-estimator sk-toggleable\"><input class=\"sk-toggleable__control sk-hidden--visually\" id=\"sk-estimator-id-8\" type=\"checkbox\" checked><label for=\"sk-estimator-id-8\" class=\"sk-toggleable__label sk-toggleable__label-arrow\">RandomForestRegressor</label><div class=\"sk-toggleable__content\"><pre>RandomForestRegressor(random_state=42)</pre></div></div></div></div></div>"
            ]
          },
          "metadata": {},
          "execution_count": 173
        }
      ]
    },
    {
      "cell_type": "code",
      "source": [
        "# Step 5: Model Training and Evaluation\n",
        "y_pred = rf_model.predict(X_test)\n"
      ],
      "metadata": {
        "id": "lZRThXnxlCD_"
      },
      "execution_count": null,
      "outputs": []
    },
    {
      "cell_type": "code",
      "source": [
        "mse = mean_squared_error(y_test, y_pred)\n",
        "print(f\"Mean Squared Error: {mse}\")"
      ],
      "metadata": {
        "colab": {
          "base_uri": "https://localhost:8080/"
        },
        "id": "1plz5jo8lwjW",
        "outputId": "9f017b93-3bd8-44cb-ae3e-7e6df0899bf9"
      },
      "execution_count": null,
      "outputs": [
        {
          "output_type": "stream",
          "name": "stdout",
          "text": [
            "Mean Squared Error: 0.00026715498697174595\n"
          ]
        }
      ]
    },
    {
      "cell_type": "code",
      "source": [
        "# Defining the Threshold Values\n",
        "dense_threshold = 0.36\n",
        "sparse_threshold = 0.2\n",
        "\n",
        "# Classifing Dense and Sparse Vegetation\n",
        "df['Vegetation Class'] = 'sparse'\n",
        "df.loc[df['Rescaled Vegetation Density'] >= dense_threshold, 'Vegetation Class'] = 'Dense'\n",
        "df.loc[df['Rescaled Vegetation Density'] <= sparse_threshold, 'Vegetation Class'] = 'Sparse'\n"
      ],
      "metadata": {
        "id": "QsVB_DJOmQCF"
      },
      "execution_count": null,
      "outputs": []
    },
    {
      "cell_type": "code",
      "source": [
        "print(df)"
      ],
      "metadata": {
        "colab": {
          "base_uri": "https://localhost:8080/"
        },
        "id": "wWaxyyhSlHk-",
        "outputId": "f5851bb4-1744-40d4-eba7-3b4c85bdbd45"
      },
      "execution_count": null,
      "outputs": [
        {
          "output_type": "stream",
          "name": "stdout",
          "text": [
            "    Month  Days  YEAR        Date  Temperature  Min_Temperature  \\\n",
            "0     Jan     1  2022  2022-01-01        21.95            17.12   \n",
            "1     jan     2  2022  2022-01-02        22.23            16.81   \n",
            "2     Jan     3  2022  2022-01-03        21.78            16.42   \n",
            "3     Jan     4  2022  2022-01-04        21.82            16.48   \n",
            "4     Jan     5  2022  2022-01-05        20.19            13.77   \n",
            "..    ...   ...   ...         ...          ...              ...   \n",
            "450   Mar   451  2023  2023-03-27        25.69            16.69   \n",
            "451   Mar   452  2023  2023-03-28        26.85            17.60   \n",
            "452   Mar   453  2023  2023-03-29        26.76            18.22   \n",
            "453   Mar   454  2023  2023-03-30        26.17            17.93   \n",
            "454   Mar   455  2023  2023-03-31        25.82            19.02   \n",
            "\n",
            "     Max_Temperature  Humidity  Precipitation  Surface_Pressure  Wind_speed  \\\n",
            "0              27.66     13.24           0.00             94.21        2.05   \n",
            "1              28.35     12.76           0.00             94.07        2.03   \n",
            "2              28.05     12.15           0.00             94.03        1.85   \n",
            "3              28.43     11.35           0.00             94.02        1.97   \n",
            "4              27.81     10.56           0.00             94.02        1.30   \n",
            "..               ...       ...            ...               ...         ...   \n",
            "450            37.17      9.28           0.00             93.70        2.38   \n",
            "451            37.91     10.68           0.08             93.68        2.02   \n",
            "452            37.31      9.83           0.00             93.74        2.29   \n",
            "453            37.24     10.80           0.09             93.68        2.27   \n",
            "454            35.37     11.29           0.21             93.66        2.42   \n",
            "\n",
            "     Vegetation Density  Rescaled Vegetation Density Vegetation Class  \n",
            "0                9.3355                     0.250748           sparse  \n",
            "1                9.3225                     0.249452           sparse  \n",
            "2                9.0565                     0.222931           sparse  \n",
            "3                8.9145                     0.208774           sparse  \n",
            "4                8.2340                     0.140927           Sparse  \n",
            "..                  ...                          ...              ...  \n",
            "450              9.6820                     0.285294           sparse  \n",
            "451             10.3000                     0.346909           sparse  \n",
            "452             10.1085                     0.327817           sparse  \n",
            "453             10.1335                     0.330309           sparse  \n",
            "454             10.1460                     0.331555           sparse  \n",
            "\n",
            "[455 rows x 14 columns]\n"
          ]
        }
      ]
    },
    {
      "cell_type": "code",
      "source": [
        "import seaborn as sns\n",
        "Vegetation_Class = pd.pivot_table(df, values='Rescaled Vegetation Density', index=['Days'])\n",
        "sns.heatmap(data = Vegetation_Class, cmap='Reds')\n",
        "print(\"NOte : \")\n",
        "print(\"The Range between 0.2 - 0.36 is Sparse Vegetaion \")\n",
        "print(\"The Range between 0.36 - 0.8 is Dense Vegetaion \")"
      ],
      "metadata": {
        "colab": {
          "base_uri": "https://localhost:8080/",
          "height": 488
        },
        "id": "pVeFUb1RnYbo",
        "outputId": "8a06fa25-cd14-4d8d-f88f-23d2540d60fe"
      },
      "execution_count": null,
      "outputs": [
        {
          "output_type": "stream",
          "name": "stdout",
          "text": [
            "NOte : \n",
            "The Range between 0.2 - 0.36 is Sparse Vegetaion \n",
            "The Range between 0.36 - 0.8 is Dense Vegetaion \n"
          ]
        },
        {
          "output_type": "display_data",
          "data": {
            "text/plain": [
              "<Figure size 640x480 with 2 Axes>"
            ],
            "image/png": "[encoded data removed]"
          },
          "metadata": {}
        }
      ]
    },
    {
      "cell_type": "code",
      "source": [
        "df['Date'] = pd.to_datetime(df['Date'])\n",
        "df['Month'] = df['Date'].dt.month"
      ],
      "metadata": {
        "id": "lDTZNyN5vhLt"
      },
      "execution_count": null,
      "outputs": []
    },
    {
      "cell_type": "code",
      "source": [
        "# Calculating the mean vegetation density for each month\n",
        "monthly_mean_density = df.groupby('Month')['Rescaled Vegetation Density'].mean()\n",
        "monthly_average_class = df.groupby('Month')['Vegetation Class'].agg(lambda x: x.value_counts().index[0])"
      ],
      "metadata": {
        "id": "xZIwjDe8ttTA"
      },
      "execution_count": null,
      "outputs": []
    },
    {
      "cell_type": "code",
      "source": [
        "print(\"Month\\tMean Vegetation Density\\tAverage Vegetation Class\")\n",
        "for month, mean_density in monthly_mean_density.items():\n",
        "    average_class = monthly_average_class[month]\n",
        "    print(f\"{month}\\t{mean_density:.2f}\\t\\t\\t{average_class}\")\n",
        "\n"
      ],
      "metadata": {
        "colab": {
          "base_uri": "https://localhost:8080/"
        },
        "id": "dapbeBlBv51O",
        "outputId": "2313cb94-391e-4cb1-f6ac-2f6b210b8959"
      },
      "execution_count": null,
      "outputs": [
        {
          "output_type": "stream",
          "name": "stdout",
          "text": [
            "Month\tMean Vegetation Density\tAverage Vegetation Class\n",
            "1\t0.15\t\t\tSparse\n",
            "2\t0.21\t\t\tsparse\n",
            "3\t0.33\t\t\tsparse\n",
            "4\t0.46\t\t\tDense\n",
            "5\t0.49\t\t\tDense\n",
            "6\t0.51\t\t\tDense\n",
            "7\t0.55\t\t\tDense\n",
            "8\t0.49\t\t\tDense\n",
            "9\t0.44\t\t\tDense\n",
            "10\t0.36\t\t\tDense\n",
            "11\t0.23\t\t\tsparse\n",
            "12\t0.23\t\t\tsparse\n"
          ]
        }
      ]
    },
    {
      "cell_type": "code",
      "source": [
        "df.to_csv('Complete_Data.csv', index=False)\n",
        "from google.colab import files\n",
        "files.download('Complete_Data.csv')\n"
      ],
      "metadata": {
        "colab": {
          "base_uri": "https://localhost:8080/",
          "height": 17
        },
        "id": "cWE3hKQRnYzM",
        "outputId": "546c1636-4954-4a86-ca2a-e2f72d526911"
      },
      "execution_count": null,
      "outputs": [
        {
          "output_type": "display_data",
          "data": {
            "text/plain": [
              "<IPython.core.display.Javascript object>"
            ],
            "application/javascript": [
              "\n",
              "    async function download(id, filename, size) {\n",
              "      if (!google.colab.kernel.accessAllowed) {\n",
              "        return;\n",
              "      }\n",
              "      const div = document.createElement('div');\n",
              "      const label = document.createElement('label');\n",
              "      label.textContent = `Downloading \"${filename}\": `;\n",
              "      div.appendChild(label);\n",
              "      const progress = document.createElement('progress');\n",
              "      progress.max = size;\n",
              "      div.appendChild(progress);\n",
              "      document.body.appendChild(div);\n",
              "\n",
              "      const buffers = [];\n",
              "      let downloaded = 0;\n",
              "\n",
              "      const channel = await google.colab.kernel.comms.open(id);\n",
              "      // Send a message to notify the kernel that we're ready.\n",
              "      channel.send({})\n",
              "\n",
              "      for await (const message of channel.messages) {\n",
              "        // Send a message to notify the kernel that we're ready.\n",
              "        channel.send({})\n",
              "        if (message.buffers) {\n",
              "          for (const buffer of message.buffers) {\n",
              "            buffers.push(buffer);\n",
              "            downloaded += buffer.byteLength;\n",
              "            progress.value = downloaded;\n",
              "          }\n",
              "        }\n",
              "      }\n",
              "      const blob = new Blob(buffers, {type: 'application/binary'});\n",
              "      const a = document.createElement('a');\n",
              "      a.href = window.URL.createObjectURL(blob);\n",
              "      a.download = filename;\n",
              "      div.appendChild(a);\n",
              "      a.click();\n",
              "      div.remove();\n",
              "    }\n",
              "  "
            ]
          },
          "metadata": {}
        },
        {
          "output_type": "display_data",
          "data": {
            "text/plain": [
              "<IPython.core.display.Javascript object>"
            ],
            "application/javascript": [
              "download(\"download_fd32ffd0-ba18-4bd4-8149-ec18808f551f\", \"Complete_Data.csv\", 44902)"
            ]
          },
          "metadata": {}
        }
      ]
    }
  ]
}