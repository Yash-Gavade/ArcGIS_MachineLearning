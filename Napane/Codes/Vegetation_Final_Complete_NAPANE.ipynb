{
  "nbformat": 4,
  "nbformat_minor": 0,
  "metadata": {
    "colab": {
      "provenance": []
    },
    "kernelspec": {
      "name": "python3",
      "display_name": "Python 3"
    },
    "language_info": {
      "name": "python"
    }
  },
  "cells": [
    {
      "cell_type": "code",
      "execution_count": 23,
      "metadata": {
        "id": "Zpy73OREz2k1"
      },
      "outputs": [],
      "source": []
    },
    {
      "cell_type": "code",
      "execution_count": 24,
      "metadata": {
        "id": "Pfwy3UyLhOo0"
      },
      "outputs": [],
      "source": [
        "import pandas as pd\n",
        "import numpy as np\n",
        "import random\n",
        "\n",
        "from sklearn.model_selection import train_test_split\n",
        "from sklearn.ensemble import RandomForestRegressor\n",
        "from sklearn.metrics import mean_squared_error\n",
        "from sklearn.metrics import accuracy_score, classification_report\n",
        "from sklearn.ensemble import RandomForestClassifier\n"
      ]
    },
    {
      "cell_type": "code",
      "source": [
        "df = pd.read_csv('/content/NAPANE_MAY2023-JULY2023_update.csv')"
      ],
      "metadata": {
        "id": "sNj-go-GhS3i"
      },
      "execution_count": 25,
      "outputs": []
    },
    {
      "cell_type": "code",
      "source": [
        "vegetation_density = 0.3 * df['Temperature'] + 0.2 * df['Humidity'] + 0.1 * df['Precipitation'] + 0.05 * df['Wind_speed']\n",
        "\n",
        "df['Vegetation Density'] = vegetation_density"
      ],
      "metadata": {
        "id": "IfUlkrTGhUJe"
      },
      "execution_count": 26,
      "outputs": []
    },
    {
      "cell_type": "code",
      "source": [
        "max_value = vegetation_density.max()\n",
        "min_value = vegetation_density.min()\n",
        "rescaled_vegetation_density = (vegetation_density - min_value) / (max_value - min_value)\n",
        "\n",
        "# Step 4: Add Rescaled Vegetation Density to the DataFrame\n",
        "df['Rescaled Vegetation Density'] = rescaled_vegetation_density"
      ],
      "metadata": {
        "id": "nTs6UH4xhzRj"
      },
      "execution_count": 27,
      "outputs": []
    },
    {
      "cell_type": "code",
      "source": [
        "X = df[['Temperature', 'Humidity', 'Precipitation', 'Wind_speed']]\n",
        "y = df['Rescaled Vegetation Density']"
      ],
      "metadata": {
        "id": "oEQdI9Jjk7tX"
      },
      "execution_count": 28,
      "outputs": []
    },
    {
      "cell_type": "code",
      "source": [
        "X_train, X_test, y_train, y_test = train_test_split(X, y, test_size=0.2, random_state=42)"
      ],
      "metadata": {
        "id": "K07E27Svk9bu"
      },
      "execution_count": 29,
      "outputs": []
    },
    {
      "cell_type": "code",
      "source": [
        "rf_model = RandomForestRegressor(n_estimators=100, random_state=42)\n",
        "rf_model.fit(X_train, y_train)"
      ],
      "metadata": {
        "colab": {
          "base_uri": "https://localhost:8080/",
          "height": 75
        },
        "id": "6A24zrzYlAbd",
        "outputId": "ce2b032f-6bd5-4f40-bd9b-aee5e414a4e1"
      },
      "execution_count": 30,
      "outputs": [
        {
          "output_type": "execute_result",
          "data": {
            "text/plain": [
              "RandomForestRegressor(random_state=42)"
            ],
            "text/html": [
              "<style>#sk-container-id-2 {color: black;background-color: white;}#sk-container-id-2 pre{padding: 0;}#sk-container-id-2 div.sk-toggleable {background-color: white;}#sk-container-id-2 label.sk-toggleable__label {cursor: pointer;display: block;width: 100%;margin-bottom: 0;padding: 0.3em;box-sizing: border-box;text-align: center;}#sk-container-id-2 label.sk-toggleable__label-arrow:before {content: \"▸\";float: left;margin-right: 0.25em;color: #696969;}#sk-container-id-2 label.sk-toggleable__label-arrow:hover:before {color: black;}#sk-container-id-2 div.sk-estimator:hover label.sk-toggleable__label-arrow:before {color: black;}#sk-container-id-2 div.sk-toggleable__content {max-height: 0;max-width: 0;overflow: hidden;text-align: left;background-color: #f0f8ff;}#sk-container-id-2 div.sk-toggleable__content pre {margin: 0.2em;color: black;border-radius: 0.25em;background-color: #f0f8ff;}#sk-container-id-2 input.sk-toggleable__control:checked~div.sk-toggleable__content {max-height: 200px;max-width: 100%;overflow: auto;}#sk-container-id-2 input.sk-toggleable__control:checked~label.sk-toggleable__label-arrow:before {content: \"▾\";}#sk-container-id-2 div.sk-estimator input.sk-toggleable__control:checked~label.sk-toggleable__label {background-color: #d4ebff;}#sk-container-id-2 div.sk-label input.sk-toggleable__control:checked~label.sk-toggleable__label {background-color: #d4ebff;}#sk-container-id-2 input.sk-hidden--visually {border: 0;clip: rect(1px 1px 1px 1px);clip: rect(1px, 1px, 1px, 1px);height: 1px;margin: -1px;overflow: hidden;padding: 0;position: absolute;width: 1px;}#sk-container-id-2 div.sk-estimator {font-family: monospace;background-color: #f0f8ff;border: 1px dotted black;border-radius: 0.25em;box-sizing: border-box;margin-bottom: 0.5em;}#sk-container-id-2 div.sk-estimator:hover {background-color: #d4ebff;}#sk-container-id-2 div.sk-parallel-item::after {content: \"\";width: 100%;border-bottom: 1px solid gray;flex-grow: 1;}#sk-container-id-2 div.sk-label:hover label.sk-toggleable__label {background-color: #d4ebff;}#sk-container-id-2 div.sk-serial::before {content: \"\";position: absolute;border-left: 1px solid gray;box-sizing: border-box;top: 0;bottom: 0;left: 50%;z-index: 0;}#sk-container-id-2 div.sk-serial {display: flex;flex-direction: column;align-items: center;background-color: white;padding-right: 0.2em;padding-left: 0.2em;position: relative;}#sk-container-id-2 div.sk-item {position: relative;z-index: 1;}#sk-container-id-2 div.sk-parallel {display: flex;align-items: stretch;justify-content: center;background-color: white;position: relative;}#sk-container-id-2 div.sk-item::before, #sk-container-id-2 div.sk-parallel-item::before {content: \"\";position: absolute;border-left: 1px solid gray;box-sizing: border-box;top: 0;bottom: 0;left: 50%;z-index: -1;}#sk-container-id-2 div.sk-parallel-item {display: flex;flex-direction: column;z-index: 1;position: relative;background-color: white;}#sk-container-id-2 div.sk-parallel-item:first-child::after {align-self: flex-end;width: 50%;}#sk-container-id-2 div.sk-parallel-item:last-child::after {align-self: flex-start;width: 50%;}#sk-container-id-2 div.sk-parallel-item:only-child::after {width: 0;}#sk-container-id-2 div.sk-dashed-wrapped {border: 1px dashed gray;margin: 0 0.4em 0.5em 0.4em;box-sizing: border-box;padding-bottom: 0.4em;background-color: white;}#sk-container-id-2 div.sk-label label {font-family: monospace;font-weight: bold;display: inline-block;line-height: 1.2em;}#sk-container-id-2 div.sk-label-container {text-align: center;}#sk-container-id-2 div.sk-container {/* jupyter's `normalize.less` sets `[hidden] { display: none; }` but bootstrap.min.css set `[hidden] { display: none !important; }` so we also need the `!important` here to be able to override the default hidden behavior on the sphinx rendered scikit-learn.org. See: https://github.com/scikit-learn/scikit-learn/issues/21755 */display: inline-block !important;position: relative;}#sk-container-id-2 div.sk-text-repr-fallback {display: none;}</style><div id=\"sk-container-id-2\" class=\"sk-top-container\"><div class=\"sk-text-repr-fallback\"><pre>RandomForestRegressor(random_state=42)</pre><b>In a Jupyter environment, please rerun this cell to show the HTML representation or trust the notebook. <br />On GitHub, the HTML representation is unable to render, please try loading this page with nbviewer.org.</b></div><div class=\"sk-container\" hidden><div class=\"sk-item\"><div class=\"sk-estimator sk-toggleable\"><input class=\"sk-toggleable__control sk-hidden--visually\" id=\"sk-estimator-id-2\" type=\"checkbox\" checked><label for=\"sk-estimator-id-2\" class=\"sk-toggleable__label sk-toggleable__label-arrow\">RandomForestRegressor</label><div class=\"sk-toggleable__content\"><pre>RandomForestRegressor(random_state=42)</pre></div></div></div></div></div>"
            ]
          },
          "metadata": {},
          "execution_count": 30
        }
      ]
    },
    {
      "cell_type": "code",
      "source": [
        "# Step 5: Model Training and Evaluation\n",
        "y_pred = rf_model.predict(X_test)\n"
      ],
      "metadata": {
        "id": "lZRThXnxlCD_"
      },
      "execution_count": 31,
      "outputs": []
    },
    {
      "cell_type": "code",
      "source": [
        "mse = mean_squared_error(y_test, y_pred)\n",
        "print(f\"Mean Squared Error: {mse}\")"
      ],
      "metadata": {
        "colab": {
          "base_uri": "https://localhost:8080/"
        },
        "id": "1plz5jo8lwjW",
        "outputId": "f46de5b8-c3e6-4c58-9cb8-811e45fc4128"
      },
      "execution_count": 32,
      "outputs": [
        {
          "output_type": "stream",
          "name": "stdout",
          "text": [
            "Mean Squared Error: 0.0006298873391809361\n"
          ]
        }
      ]
    },
    {
      "cell_type": "code",
      "source": [
        "# Defining the Threshold Values\n",
        "dense_threshold = 0.74\n",
        "sparse_threshold = 0.36\n",
        "\n",
        "# Classifing Dense and Sparse Vegetation\n",
        "df['Vegetation Class'] = 'Moderate'\n",
        "df.loc[df['Rescaled Vegetation Density'] < dense_threshold, 'Vegetation Class'] = 'Dense'\n",
        "df.loc[df['Rescaled Vegetation Density'] <= sparse_threshold, 'Vegetation Class'] = 'Sparse'\n"
      ],
      "metadata": {
        "id": "QsVB_DJOmQCF"
      },
      "execution_count": 33,
      "outputs": []
    },
    {
      "cell_type": "code",
      "source": [
        "print(df)"
      ],
      "metadata": {
        "colab": {
          "base_uri": "https://localhost:8080/"
        },
        "id": "wWaxyyhSlHk-",
        "outputId": "7078a84e-5c3f-4b89-97bb-fdfb10693324"
      },
      "execution_count": 34,
      "outputs": [
        {
          "output_type": "stream",
          "name": "stdout",
          "text": [
            "   Month  Days  YEAR        Date  Temperature  Min_Temperature  \\\n",
            "0    May     1  2023  01-05-2023        22.80            15.72   \n",
            "1    May     2  2023  02-05-2023        22.51            14.73   \n",
            "2    May     3  2023  03-05-2023        23.47            13.32   \n",
            "3    May     4  2023  04-05-2023        23.37            12.84   \n",
            "4    May     5  2023  05-05-2023        23.62            12.65   \n",
            "..   ...   ...   ...         ...          ...              ...   \n",
            "85  July    86  2023  25-07-2023        23.65             2.41   \n",
            "86  July    87  2023  26-07-2023        23.72             2.61   \n",
            "87  July    88  2023  27-07-2023        24.12             1.70   \n",
            "88  July    89  2023  28-07-2023        23.95             2.27   \n",
            "89  July    90  2023  29-07-2023        23.80             3.19   \n",
            "\n",
            "    Max_Temperature  Humidity  Precipitation  Surface_Pressure  Wind_speed  \\\n",
            "0             38.53     11.60           0.00             97.55        3.54   \n",
            "1             37.23     12.94           0.01             97.63        3.68   \n",
            "2             36.79     14.22           0.11             97.76        3.70   \n",
            "3             36.21     13.49           0.05             97.71        3.52   \n",
            "4             36.27     13.31           0.01             97.63        3.62   \n",
            "..              ...       ...            ...               ...         ...   \n",
            "85            26.06     18.92          24.58             97.63        5.80   \n",
            "86            26.33     18.98          41.22             97.71        6.59   \n",
            "87            25.82     19.23          39.30             97.73        6.06   \n",
            "88            26.23     19.17          20.35             97.74        6.02   \n",
            "89            26.99     18.98          11.38             97.74        5.92   \n",
            "\n",
            "    Vegetation Density  Rescaled Vegetation Density Vegetation Class  \n",
            "0               9.3370                     0.000000           Sparse  \n",
            "1               9.5260                     0.019285           Sparse  \n",
            "2              10.0810                     0.075914           Sparse  \n",
            "3               9.8900                     0.056426           Sparse  \n",
            "4               9.9300                     0.060507           Sparse  \n",
            "..                 ...                          ...              ...  \n",
            "85             13.6270                     0.437733            Dense  \n",
            "86             15.3635                     0.614918            Dense  \n",
            "87             15.3150                     0.609969            Dense  \n",
            "88             13.3550                     0.409979            Dense  \n",
            "89             12.3700                     0.309474           Sparse  \n",
            "\n",
            "[90 rows x 14 columns]\n"
          ]
        }
      ]
    },
    {
      "cell_type": "code",
      "source": [
        "import seaborn as sns\n",
        "Vegetation_Class = pd.pivot_table(df, values='Rescaled Vegetation Density', index=['Days'])\n",
        "sns.heatmap(data = Vegetation_Class, cmap='Reds')\n",
        "print(\"NOte : \")\n",
        "print(\"The Range between 0.2 - 0.36 is Sparse Vegetaion \")\n",
        "print(\"The Range between 0.36 - 0.8 is Dense Vegetaion \")"
      ],
      "metadata": {
        "colab": {
          "base_uri": "https://localhost:8080/",
          "height": 487
        },
        "id": "pVeFUb1RnYbo",
        "outputId": "dec895e1-8941-4706-c7f5-ff328395e90f"
      },
      "execution_count": 35,
      "outputs": [
        {
          "output_type": "stream",
          "name": "stdout",
          "text": [
            "NOte : \n",
            "The Range between 0.2 - 0.36 is Sparse Vegetaion \n",
            "The Range between 0.36 - 0.8 is Dense Vegetaion \n"
          ]
        },
        {
          "output_type": "display_data",
          "data": {
            "text/plain": [
              "<Figure size 640x480 with 2 Axes>"
            ],
            "image/png": "[encoded data removed]"
          },
          "metadata": {}
        }
      ]
    },
    {
      "cell_type": "code",
      "source": [
        "df.to_csv('Complete_Data.csv', index=False)\n",
        "from google.colab import files\n",
        "files.download('Complete_Data.csv')\n"
      ],
      "metadata": {
        "colab": {
          "base_uri": "https://localhost:8080/",
          "height": 17
        },
        "id": "cWE3hKQRnYzM",
        "outputId": "5b82881a-cf75-4f77-d543-044b237d0df3"
      },
      "execution_count": 36,
      "outputs": [
        {
          "output_type": "display_data",
          "data": {
            "text/plain": [
              "<IPython.core.display.Javascript object>"
            ],
            "application/javascript": [
              "\n",
              "    async function download(id, filename, size) {\n",
              "      if (!google.colab.kernel.accessAllowed) {\n",
              "        return;\n",
              "      }\n",
              "      const div = document.createElement('div');\n",
              "      const label = document.createElement('label');\n",
              "      label.textContent = `Downloading \"${filename}\": `;\n",
              "      div.appendChild(label);\n",
              "      const progress = document.createElement('progress');\n",
              "      progress.max = size;\n",
              "      div.appendChild(progress);\n",
              "      document.body.appendChild(div);\n",
              "\n",
              "      const buffers = [];\n",
              "      let downloaded = 0;\n",
              "\n",
              "      const channel = await google.colab.kernel.comms.open(id);\n",
              "      // Send a message to notify the kernel that we're ready.\n",
              "      channel.send({})\n",
              "\n",
              "      for await (const message of channel.messages) {\n",
              "        // Send a message to notify the kernel that we're ready.\n",
              "        channel.send({})\n",
              "        if (message.buffers) {\n",
              "          for (const buffer of message.buffers) {\n",
              "            buffers.push(buffer);\n",
              "            downloaded += buffer.byteLength;\n",
              "            progress.value = downloaded;\n",
              "          }\n",
              "        }\n",
              "      }\n",
              "      const blob = new Blob(buffers, {type: 'application/binary'});\n",
              "      const a = document.createElement('a');\n",
              "      a.href = window.URL.createObjectURL(blob);\n",
              "      a.download = filename;\n",
              "      div.appendChild(a);\n",
              "      a.click();\n",
              "      div.remove();\n",
              "    }\n",
              "  "
            ]
          },
          "metadata": {}
        },
        {
          "output_type": "display_data",
          "data": {
            "text/plain": [
              "<IPython.core.display.Javascript object>"
            ],
            "application/javascript": [
              "download(\"download_dc9f6396-82f5-4e31-9631-24569820f0a9\", \"Complete_Data.csv\", 9178)"
            ]
          },
          "metadata": {}
        }
      ]
    }
  ]
}