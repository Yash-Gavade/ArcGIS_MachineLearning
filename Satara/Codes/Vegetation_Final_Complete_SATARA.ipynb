{
  "nbformat": 4,
  "nbformat_minor": 0,
  "metadata": {
    "colab": {
      "provenance": []
    },
    "kernelspec": {
      "name": "python3",
      "display_name": "Python 3"
    },
    "language_info": {
      "name": "python"
    }
  },
  "cells": [
    {
      "cell_type": "code",
      "execution_count": 7,
      "metadata": {
        "id": "Zpy73OREz2k1"
      },
      "outputs": [],
      "source": []
    },
    {
      "cell_type": "code",
      "execution_count": 8,
      "metadata": {
        "id": "Pfwy3UyLhOo0"
      },
      "outputs": [],
      "source": [
        "import pandas as pd\n",
        "import numpy as np\n",
        "import random\n",
        "\n",
        "from sklearn.model_selection import train_test_split\n",
        "from sklearn.ensemble import RandomForestRegressor\n",
        "from sklearn.metrics import mean_squared_error\n",
        "from sklearn.metrics import accuracy_score, classification_report\n",
        "from sklearn.ensemble import RandomForestClassifier\n"
      ]
    },
    {
      "cell_type": "code",
      "source": [
        "df = pd.read_csv('/content/SATARA_MAY2023-JULY2023_Updated.csv')"
      ],
      "metadata": {
        "id": "sNj-go-GhS3i"
      },
      "execution_count": 9,
      "outputs": []
    },
    {
      "cell_type": "code",
      "source": [
        "vegetation_density = 0.3 * df['Temperature'] + 0.2 * df['Humidity'] + 0.1 * df['Precipitation'] + 0.05 * df['Wind_speed']\n",
        "\n",
        "df['Vegetation Density'] = vegetation_density"
      ],
      "metadata": {
        "id": "IfUlkrTGhUJe"
      },
      "execution_count": 10,
      "outputs": []
    },
    {
      "cell_type": "code",
      "source": [
        "max_value = vegetation_density.max()\n",
        "min_value = vegetation_density.min()\n",
        "rescaled_vegetation_density = (vegetation_density - min_value) / (max_value - min_value)\n",
        "\n",
        "# Step 4: Add Rescaled Vegetation Density to the DataFrame\n",
        "df['Rescaled Vegetation Density'] = rescaled_vegetation_density"
      ],
      "metadata": {
        "id": "nTs6UH4xhzRj"
      },
      "execution_count": 11,
      "outputs": []
    },
    {
      "cell_type": "code",
      "source": [
        "X = df[['Temperature', 'Humidity', 'Precipitation', 'Wind_speed']]\n",
        "y = df['Rescaled Vegetation Density']"
      ],
      "metadata": {
        "id": "oEQdI9Jjk7tX"
      },
      "execution_count": 12,
      "outputs": []
    },
    {
      "cell_type": "code",
      "source": [
        "X_train, X_test, y_train, y_test = train_test_split(X, y, test_size=0.2, random_state=42)"
      ],
      "metadata": {
        "id": "K07E27Svk9bu"
      },
      "execution_count": 13,
      "outputs": []
    },
    {
      "cell_type": "code",
      "source": [
        "rf_model = RandomForestRegressor(n_estimators=100, random_state=42)\n",
        "rf_model.fit(X_train, y_train)"
      ],
      "metadata": {
        "colab": {
          "base_uri": "https://localhost:8080/",
          "height": 75
        },
        "id": "6A24zrzYlAbd",
        "outputId": "64697164-1ccf-4fe6-827e-fe76adba1bcf"
      },
      "execution_count": 14,
      "outputs": [
        {
          "output_type": "execute_result",
          "data": {
            "text/plain": [
              "RandomForestRegressor(random_state=42)"
            ],
            "text/html": [
              "<style>#sk-container-id-1 {color: black;background-color: white;}#sk-container-id-1 pre{padding: 0;}#sk-container-id-1 div.sk-toggleable {background-color: white;}#sk-container-id-1 label.sk-toggleable__label {cursor: pointer;display: block;width: 100%;margin-bottom: 0;padding: 0.3em;box-sizing: border-box;text-align: center;}#sk-container-id-1 label.sk-toggleable__label-arrow:before {content: \"▸\";float: left;margin-right: 0.25em;color: #696969;}#sk-container-id-1 label.sk-toggleable__label-arrow:hover:before {color: black;}#sk-container-id-1 div.sk-estimator:hover label.sk-toggleable__label-arrow:before {color: black;}#sk-container-id-1 div.sk-toggleable__content {max-height: 0;max-width: 0;overflow: hidden;text-align: left;background-color: #f0f8ff;}#sk-container-id-1 div.sk-toggleable__content pre {margin: 0.2em;color: black;border-radius: 0.25em;background-color: #f0f8ff;}#sk-container-id-1 input.sk-toggleable__control:checked~div.sk-toggleable__content {max-height: 200px;max-width: 100%;overflow: auto;}#sk-container-id-1 input.sk-toggleable__control:checked~label.sk-toggleable__label-arrow:before {content: \"▾\";}#sk-container-id-1 div.sk-estimator input.sk-toggleable__control:checked~label.sk-toggleable__label {background-color: #d4ebff;}#sk-container-id-1 div.sk-label input.sk-toggleable__control:checked~label.sk-toggleable__label {background-color: #d4ebff;}#sk-container-id-1 input.sk-hidden--visually {border: 0;clip: rect(1px 1px 1px 1px);clip: rect(1px, 1px, 1px, 1px);height: 1px;margin: -1px;overflow: hidden;padding: 0;position: absolute;width: 1px;}#sk-container-id-1 div.sk-estimator {font-family: monospace;background-color: #f0f8ff;border: 1px dotted black;border-radius: 0.25em;box-sizing: border-box;margin-bottom: 0.5em;}#sk-container-id-1 div.sk-estimator:hover {background-color: #d4ebff;}#sk-container-id-1 div.sk-parallel-item::after {content: \"\";width: 100%;border-bottom: 1px solid gray;flex-grow: 1;}#sk-container-id-1 div.sk-label:hover label.sk-toggleable__label {background-color: #d4ebff;}#sk-container-id-1 div.sk-serial::before {content: \"\";position: absolute;border-left: 1px solid gray;box-sizing: border-box;top: 0;bottom: 0;left: 50%;z-index: 0;}#sk-container-id-1 div.sk-serial {display: flex;flex-direction: column;align-items: center;background-color: white;padding-right: 0.2em;padding-left: 0.2em;position: relative;}#sk-container-id-1 div.sk-item {position: relative;z-index: 1;}#sk-container-id-1 div.sk-parallel {display: flex;align-items: stretch;justify-content: center;background-color: white;position: relative;}#sk-container-id-1 div.sk-item::before, #sk-container-id-1 div.sk-parallel-item::before {content: \"\";position: absolute;border-left: 1px solid gray;box-sizing: border-box;top: 0;bottom: 0;left: 50%;z-index: -1;}#sk-container-id-1 div.sk-parallel-item {display: flex;flex-direction: column;z-index: 1;position: relative;background-color: white;}#sk-container-id-1 div.sk-parallel-item:first-child::after {align-self: flex-end;width: 50%;}#sk-container-id-1 div.sk-parallel-item:last-child::after {align-self: flex-start;width: 50%;}#sk-container-id-1 div.sk-parallel-item:only-child::after {width: 0;}#sk-container-id-1 div.sk-dashed-wrapped {border: 1px dashed gray;margin: 0 0.4em 0.5em 0.4em;box-sizing: border-box;padding-bottom: 0.4em;background-color: white;}#sk-container-id-1 div.sk-label label {font-family: monospace;font-weight: bold;display: inline-block;line-height: 1.2em;}#sk-container-id-1 div.sk-label-container {text-align: center;}#sk-container-id-1 div.sk-container {/* jupyter's `normalize.less` sets `[hidden] { display: none; }` but bootstrap.min.css set `[hidden] { display: none !important; }` so we also need the `!important` here to be able to override the default hidden behavior on the sphinx rendered scikit-learn.org. See: https://github.com/scikit-learn/scikit-learn/issues/21755 */display: inline-block !important;position: relative;}#sk-container-id-1 div.sk-text-repr-fallback {display: none;}</style><div id=\"sk-container-id-1\" class=\"sk-top-container\"><div class=\"sk-text-repr-fallback\"><pre>RandomForestRegressor(random_state=42)</pre><b>In a Jupyter environment, please rerun this cell to show the HTML representation or trust the notebook. <br />On GitHub, the HTML representation is unable to render, please try loading this page with nbviewer.org.</b></div><div class=\"sk-container\" hidden><div class=\"sk-item\"><div class=\"sk-estimator sk-toggleable\"><input class=\"sk-toggleable__control sk-hidden--visually\" id=\"sk-estimator-id-1\" type=\"checkbox\" checked><label for=\"sk-estimator-id-1\" class=\"sk-toggleable__label sk-toggleable__label-arrow\">RandomForestRegressor</label><div class=\"sk-toggleable__content\"><pre>RandomForestRegressor(random_state=42)</pre></div></div></div></div></div>"
            ]
          },
          "metadata": {},
          "execution_count": 14
        }
      ]
    },
    {
      "cell_type": "code",
      "source": [
        "# Step 5: Model Training and Evaluation\n",
        "y_pred = rf_model.predict(X_test)\n"
      ],
      "metadata": {
        "id": "lZRThXnxlCD_"
      },
      "execution_count": 15,
      "outputs": []
    },
    {
      "cell_type": "code",
      "source": [
        "mse = mean_squared_error(y_test, y_pred)\n",
        "print(f\"Mean Squared Error: {mse}\")"
      ],
      "metadata": {
        "colab": {
          "base_uri": "https://localhost:8080/"
        },
        "id": "1plz5jo8lwjW",
        "outputId": "f544fe2b-f5e6-4665-fda4-99006a6a02fb"
      },
      "execution_count": 16,
      "outputs": [
        {
          "output_type": "stream",
          "name": "stdout",
          "text": [
            "Mean Squared Error: 0.0004715188702012911\n"
          ]
        }
      ]
    },
    {
      "cell_type": "code",
      "source": [
        "# Defining the Threshold Values\n",
        "dense_threshold = 0.74\n",
        "sparse_threshold = 0.36\n",
        "\n",
        "# Classifing Dense and Sparse Vegetation\n",
        "df['Vegetation Class'] = 'Moderate'\n",
        "df.loc[df['Rescaled Vegetation Density'] < dense_threshold, 'Vegetation Class'] = 'Dense'\n",
        "df.loc[df['Rescaled Vegetation Density'] <= sparse_threshold, 'Vegetation Class'] = 'Sparse'\n"
      ],
      "metadata": {
        "id": "QsVB_DJOmQCF"
      },
      "execution_count": 17,
      "outputs": []
    },
    {
      "cell_type": "code",
      "source": [
        "print(df)"
      ],
      "metadata": {
        "colab": {
          "base_uri": "https://localhost:8080/"
        },
        "id": "wWaxyyhSlHk-",
        "outputId": "18e8beca-7a13-4041-fc7d-38599bc8dc1e"
      },
      "execution_count": 18,
      "outputs": [
        {
          "output_type": "stream",
          "name": "stdout",
          "text": [
            "   Month  Days  YEAR        Date  Min_Temperature  Temperature  \\\n",
            "0    May     1  2023  01-05-2023            16.69        20.71   \n",
            "1    May     2  2023  02-05-2023            17.34        19.51   \n",
            "2    May     3  2023  03-05-2023            13.88        21.78   \n",
            "3    May     4  2023  04-05-2023            11.23        21.81   \n",
            "4    May     5  2023  05-05-2023            12.65        21.56   \n",
            "..   ...   ...   ...         ...              ...          ...   \n",
            "85  July    86  2023  25-07-2023             2.94        21.31   \n",
            "86  July    87  2023  26-07-2023             3.31        21.64   \n",
            "87  July    88  2023  27-07-2023             2.15        21.92   \n",
            "88  July    89  2023  28-07-2023             3.38        21.58   \n",
            "89  July    90  2023  29-07-2023             4.19        21.43   \n",
            "\n",
            "    Max_Temperature  Humidity  Precipitation  Surface_Pressure  Wind_speed  \\\n",
            "0             37.40     11.05           0.04             93.45        2.87   \n",
            "1             36.84     11.23           0.00             93.52        3.23   \n",
            "2             35.66     13.31           0.36             93.65        2.59   \n",
            "3             33.04     13.06           0.30             93.61        2.30   \n",
            "4             34.21     12.45           0.21             93.52        2.84   \n",
            "..              ...       ...            ...               ...         ...   \n",
            "85            24.25     17.58          38.60             93.52        3.10   \n",
            "86            24.95     17.82          40.31             93.57        4.95   \n",
            "87            24.07     17.82          38.54             93.62        1.65   \n",
            "88            24.96     17.58          19.89             93.62        3.20   \n",
            "89            25.62     17.40          15.15             93.63        3.62   \n",
            "\n",
            "    Vegetation Density  Rescaled Vegetation Density Vegetation Class  \n",
            "0               8.5705                     0.033260           Sparse  \n",
            "1               8.2605                     0.000000           Sparse  \n",
            "2               9.3615                     0.118127           Sparse  \n",
            "3               9.3000                     0.111528           Sparse  \n",
            "4               9.1210                     0.092323           Sparse  \n",
            "..                 ...                          ...              ...  \n",
            "85             13.9240                     0.607639            Dense  \n",
            "86             14.3345                     0.651682            Dense  \n",
            "87             14.0765                     0.624001            Dense  \n",
            "88             12.1390                     0.416126            Dense  \n",
            "89             11.6050                     0.358833           Sparse  \n",
            "\n",
            "[90 rows x 14 columns]\n"
          ]
        }
      ]
    },
    {
      "cell_type": "code",
      "source": [
        "import seaborn as sns\n",
        "Vegetation_Class = pd.pivot_table(df, values='Rescaled Vegetation Density', index=['Days'])\n",
        "sns.heatmap(data = Vegetation_Class, cmap='Reds')\n",
        "print(\"NOte : \")\n",
        "print(\"The Range between 0.2 - 0.36 is Sparse Vegetaion \")\n",
        "print(\"The Range between 0.36 - 0.8 is Dense Vegetaion \")"
      ],
      "metadata": {
        "colab": {
          "base_uri": "https://localhost:8080/",
          "height": 487
        },
        "id": "pVeFUb1RnYbo",
        "outputId": "0cafdef3-05b8-40af-b40a-7e4062c4e1c8"
      },
      "execution_count": 19,
      "outputs": [
        {
          "output_type": "stream",
          "name": "stdout",
          "text": [
            "NOte : \n",
            "The Range between 0.2 - 0.36 is Sparse Vegetaion \n",
            "The Range between 0.36 - 0.8 is Dense Vegetaion \n"
          ]
        },
        {
          "output_type": "display_data",
          "data": {
            "text/plain": [
              "<Figure size 640x480 with 2 Axes>"
            ],
            "image/png": "[encoded data removed]"
          },
          "metadata": {}
        }
      ]
    },
    {
      "cell_type": "code",
      "source": [
        "df.to_csv('Complete_Data.csv', index=False)\n",
        "from google.colab import files\n",
        "files.download('Complete_Data.csv')\n"
      ],
      "metadata": {
        "colab": {
          "base_uri": "https://localhost:8080/",
          "height": 17
        },
        "id": "cWE3hKQRnYzM",
        "outputId": "6f7d2d72-b568-4ea4-b74e-7bd7f3888d35"
      },
      "execution_count": 23,
      "outputs": [
        {
          "output_type": "display_data",
          "data": {
            "text/plain": [
              "<IPython.core.display.Javascript object>"
            ],
            "application/javascript": [
              "\n",
              "    async function download(id, filename, size) {\n",
              "      if (!google.colab.kernel.accessAllowed) {\n",
              "        return;\n",
              "      }\n",
              "      const div = document.createElement('div');\n",
              "      const label = document.createElement('label');\n",
              "      label.textContent = `Downloading \"${filename}\": `;\n",
              "      div.appendChild(label);\n",
              "      const progress = document.createElement('progress');\n",
              "      progress.max = size;\n",
              "      div.appendChild(progress);\n",
              "      document.body.appendChild(div);\n",
              "\n",
              "      const buffers = [];\n",
              "      let downloaded = 0;\n",
              "\n",
              "      const channel = await google.colab.kernel.comms.open(id);\n",
              "      // Send a message to notify the kernel that we're ready.\n",
              "      channel.send({})\n",
              "\n",
              "      for await (const message of channel.messages) {\n",
              "        // Send a message to notify the kernel that we're ready.\n",
              "        channel.send({})\n",
              "        if (message.buffers) {\n",
              "          for (const buffer of message.buffers) {\n",
              "            buffers.push(buffer);\n",
              "            downloaded += buffer.byteLength;\n",
              "            progress.value = downloaded;\n",
              "          }\n",
              "        }\n",
              "      }\n",
              "      const blob = new Blob(buffers, {type: 'application/binary'});\n",
              "      const a = document.createElement('a');\n",
              "      a.href = window.URL.createObjectURL(blob);\n",
              "      a.download = filename;\n",
              "      div.appendChild(a);\n",
              "      a.click();\n",
              "      div.remove();\n",
              "    }\n",
              "  "
            ]
          },
          "metadata": {}
        },
        {
          "output_type": "display_data",
          "data": {
            "text/plain": [
              "<IPython.core.display.Javascript object>"
            ],
            "application/javascript": [
              "download(\"download_4eb79d57-2349-47b2-8d5f-28499ea956e5\", \"Complete_Data.csv\", 8967)"
            ]
          },
          "metadata": {}
        }
      ]
    }
  ]
}